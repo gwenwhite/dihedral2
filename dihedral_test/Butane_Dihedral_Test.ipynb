{
 "cells": [
  {
   "cell_type": "code",
   "execution_count": null,
   "id": "2f96fef8",
   "metadata": {},
   "outputs": [],
   "source": [
    "import mbuild as mb\n",
    "import warnings \n",
    "warnings.filterwarnings('ignore')"
   ]
  },
  {
   "cell_type": "code",
   "execution_count": null,
   "id": "89d38f8e",
   "metadata": {},
   "outputs": [],
   "source": [
    "butane = mb.load(\"CCCC\", smiles=True)\n",
    "butane.visualize()"
   ]
  },
  {
   "cell_type": "code",
   "execution_count": null,
   "id": "2b5eec05",
   "metadata": {},
   "outputs": [],
   "source": [
    "box = mb.fill_box(compound = butane,\n",
    "                 n_compounds=1, \n",
    "                 density=0.01)"
   ]
  },
  {
   "cell_type": "code",
   "execution_count": null,
   "id": "23874592",
   "metadata": {},
   "outputs": [],
   "source": [
    "box.visualize() #is this supposed to show the box around it?"
   ]
  },
  {
   "cell_type": "code",
   "execution_count": null,
   "id": "97bbe03a",
   "metadata": {},
   "outputs": [],
   "source": [
    "import foyer\n"
   ]
  },
  {
   "cell_type": "code",
   "execution_count": null,
   "id": "0fdd47fe",
   "metadata": {},
   "outputs": [],
   "source": [
    "gaff = foyer.Forcefield(forcefield_files = \"../repos/GAFF-foyer/gafffoyer/xml/gaff.xml\")"
   ]
  },
  {
   "cell_type": "code",
   "execution_count": null,
   "id": "d091c2ac",
   "metadata": {},
   "outputs": [],
   "source": [
    "box_typed = gaff.apply(box)"
   ]
  },
  {
   "cell_type": "code",
   "execution_count": null,
   "id": "859d6c78",
   "metadata": {},
   "outputs": [],
   "source": [
    "box_typed.strip([a.atomic_number == 1 for a in box_typed])"
   ]
  },
  {
   "cell_type": "code",
   "execution_count": null,
   "id": "7fc827cc",
   "metadata": {},
   "outputs": [],
   "source": [
    "type(box_typed) \n",
    "#parmed structure contains all the info like bond distance and stickiness in a file that can be used to run a hoomd simulation"
   ]
  },
  {
   "cell_type": "code",
   "execution_count": null,
   "id": "2fa5d638",
   "metadata": {},
   "outputs": [],
   "source": [
    "type(box)"
   ]
  },
  {
   "cell_type": "code",
   "execution_count": null,
   "id": "79ddf60e",
   "metadata": {},
   "outputs": [],
   "source": [
    "for atom in box_typed.atoms:\n",
    "    print(atom.sigma)\n",
    "    print(atom.epsilon)"
   ]
  },
  {
   "cell_type": "code",
   "execution_count": null,
   "id": "33b477b6",
   "metadata": {},
   "outputs": [],
   "source": [
    "from mbuild.formats.hoomd_forcefield import create_hoomd_forcefield"
   ]
  },
  {
   "cell_type": "code",
   "execution_count": null,
   "id": "fa8a2855",
   "metadata": {},
   "outputs": [],
   "source": [
    "help(create_hoomd_forcefield)"
   ]
  },
  {
   "cell_type": "code",
   "execution_count": null,
   "id": "21877891",
   "metadata": {},
   "outputs": [],
   "source": [
    "snap, forcefield, refs = create_hoomd_forcefield(box_typed, r_cut = 2.5, auto_scale=True)"
   ]
  },
  {
   "cell_type": "code",
   "execution_count": null,
   "id": "ce92929c",
   "metadata": {},
   "outputs": [],
   "source": [
    "print(forcefield)"
   ]
  },
  {
   "cell_type": "code",
   "execution_count": null,
   "id": "76eff6d5",
   "metadata": {},
   "outputs": [],
   "source": [
    "import hoomd\n",
    "cpu = hoomd.device.CPU()\n",
    "sim = hoomd.Simulation(device=cpu,seed=0)\n",
    "sim.create_state_from_snapshot(snap)"
   ]
  },
  {
   "cell_type": "code",
   "execution_count": null,
   "id": "7b3d76a9",
   "metadata": {},
   "outputs": [],
   "source": [
    "integrator = hoomd.md.Integrator(dt=0.0001)\n",
    "nvt = hoomd.md.methods.NVT(kT=1.5,filter=hoomd.filter.All(),tau=0.1)\n",
    "integrator.forces = forcefield\n",
    "integrator.methods.append(nvt)\n",
    "sim.operations.integrator = integrator\n",
    "sim.state.thermalize_particle_momenta(filter=hoomd.filter.All(), kT=1.5)\n",
    "# Set up GSD writer\n",
    "gsd_writer = hoomd.write.GSD(\n",
    "    trigger=hoomd.trigger.Periodic(int(2e2)),\n",
    "    filename=\"traj_dihedral.gsd\",\n",
    "    mode=\"wb\"\n",
    ")\n",
    "sim.operations.writers.append(gsd_writer)"
   ]
  },
  {
   "cell_type": "code",
   "execution_count": null,
   "id": "28b01d20",
   "metadata": {},
   "outputs": [],
   "source": [
    "sim.run(5e5)"
   ]
  },
  {
   "cell_type": "code",
   "execution_count": null,
   "id": "8ad03cd1",
   "metadata": {},
   "outputs": [],
   "source": [
    "import gsd.hoomd"
   ]
  },
  {
   "cell_type": "code",
   "execution_count": null,
   "id": "00d6b19e",
   "metadata": {},
   "outputs": [],
   "source": [
    "traj = gsd.hoomd.open(\"traj_dihedral.gsd\")"
   ]
  },
  {
   "cell_type": "code",
   "execution_count": null,
   "id": "41553506",
   "metadata": {},
   "outputs": [],
   "source": [
    "len(traj)"
   ]
  },
  {
   "cell_type": "code",
   "execution_count": null,
   "id": "fbc04fa5",
   "metadata": {},
   "outputs": [],
   "source": [
    "snapshot = traj[10]"
   ]
  },
  {
   "cell_type": "code",
   "execution_count": null,
   "id": "78c0db2e",
   "metadata": {},
   "outputs": [],
   "source": [
    "snapshot.particles.position"
   ]
  },
  {
   "cell_type": "code",
   "execution_count": 1,
   "id": "f846875c",
   "metadata": {},
   "outputs": [],
   "source": [
    "from cmeutils.structure import dihedral_distribution"
   ]
  },
  {
   "cell_type": "code",
   "execution_count": 5,
   "id": "e771bb9b",
   "metadata": {},
   "outputs": [],
   "source": [
    "dist = dihedral_distribution('traj_dihedral.gsd',A_name = \"c3\", B_name = \"c3\", C_name = \"c3\", D_name = \"c3\", histogram = True)"
   ]
  },
  {
   "cell_type": "code",
   "execution_count": null,
   "id": "284d6ba7",
   "metadata": {},
   "outputs": [],
   "source": []
  }
 ],
 "metadata": {
  "kernelspec": {
   "display_name": "Python 3 (ipykernel)",
   "language": "python",
   "name": "python3"
  },
  "language_info": {
   "codemirror_mode": {
    "name": "ipython",
    "version": 3
   },
   "file_extension": ".py",
   "mimetype": "text/x-python",
   "name": "python",
   "nbconvert_exporter": "python",
   "pygments_lexer": "ipython3",
   "version": "3.10.6"
  }
 },
 "nbformat": 4,
 "nbformat_minor": 5
}
