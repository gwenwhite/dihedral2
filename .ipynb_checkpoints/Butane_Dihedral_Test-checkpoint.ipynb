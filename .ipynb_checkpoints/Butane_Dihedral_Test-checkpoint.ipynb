{
 "cells": [
  {
   "cell_type": "code",
   "execution_count": 1,
   "id": "2f96fef8",
   "metadata": {},
   "outputs": [
    {
     "name": "stderr",
     "output_type": "stream",
     "text": [
      "Warning: importing 'simtk.openmm' is deprecated.  Import 'openmm' instead.\n"
     ]
    }
   ],
   "source": [
    "import mbuild as mb\n",
    "import warnings \n",
    "warnings.filterwarnings('ignore')"
   ]
  },
  {
   "cell_type": "code",
   "execution_count": 2,
   "id": "89d38f8e",
   "metadata": {},
   "outputs": [
    {
     "data": {
      "application/3dmoljs_load.v0": "<div id=\"3dmolviewer_16656285664414332\"  style=\"position: relative; width: 640px; height: 480px\">\n        <p id=\"3dmolwarning_16656285664414332\" style=\"background-color:#ffcccc;color:black\">You appear to be running in JupyterLab (or JavaScript failed to load for some other reason).  You need to install the 3dmol extension: <br>\n        <tt>jupyter labextension install jupyterlab_3dmol</tt></p>\n        </div>\n<script>\n\nvar loadScriptAsync = function(uri){\n  return new Promise((resolve, reject) => {\n    var tag = document.createElement('script');\n    tag.src = uri;\n    tag.async = true;\n    tag.onload = () => {\n      resolve();\n    };\n  var firstScriptTag = document.getElementsByTagName('script')[0];\n  firstScriptTag.parentNode.insertBefore(tag, firstScriptTag);\n});\n};\n\nif(typeof $3Dmolpromise === 'undefined') {\n$3Dmolpromise = null;\n  $3Dmolpromise = loadScriptAsync('https://cdn.jsdelivr.net/npm/3dmol@latest/build/3Dmol-min.min.js');\n}\n\nvar viewer_16656285664414332 = null;\nvar warn = document.getElementById(\"3dmolwarning_16656285664414332\");\nif(warn) {\n    warn.parentNode.removeChild(warn);\n}\n$3Dmolpromise.then(function() {\nviewer_16656285664414332 = $3Dmol.createViewer($(\"#3dmolviewer_16656285664414332\"),{backgroundColor:\"white\"});\nviewer_16656285664414332.zoomTo();\n\tviewer_16656285664414332.addModel(\"@<TRIPOS>MOLECULE\\nRES\\n14 13 1 0 1\\nSMALL\\nNO_CHARGES\\n@<TRIPOS>CRYSIN\\n   10.3843     7.4618     7.7884    90.0000    90.0000    90.0000  1  1\\n@<TRIPOS>ATOM\\n       1 C            1.9360     0.0648     0.2465 C             1 RES     \\n       2 C            0.5372     0.1851    -0.3509 C             1 RES     \\n       3 C           -0.5372    -0.1851     0.6774 C             1 RES     \\n       4 C           -1.9360    -0.0648     0.0799 C             1 RES     \\n       5 H            2.1263    -0.9788     0.5765 H             1 RES     \\n       6 H            2.6921     0.3385    -0.5192 H             1 RES     \\n       7 H            2.0453     0.7498     1.1142 H             1 RES     \\n       8 H            0.4627    -0.4905    -1.2310 H             1 RES     \\n       9 H            0.3820     1.2309    -0.6955 H             1 RES     \\n      10 H           -0.4627     0.4905     1.5574 H             1 RES     \\n      11 H           -0.3820    -1.2309     1.0219 H             1 RES     \\n      12 H           -2.1263     0.9788    -0.2500 H             1 RES     \\n      13 H           -2.0453    -0.7498    -0.7878 H             1 RES     \\n      14 H           -2.6921    -0.3385     0.8457 H             1 RES     \\n@<TRIPOS>BOND\\n       1        2        1 1\\n       2        5        1 1\\n       3        6        1 1\\n       4        7        1 1\\n       5        3        2 1\\n       6        8        2 1\\n       7        9        2 1\\n       8        4        3 1\\n       9       10        3 1\\n      10       11        3 1\\n      11       12        4 1\\n      12       13        4 1\\n      13       14        4 1\\n@<TRIPOS>SUBSTRUCTURE\\n       1 RES             1 RESIDUE    0 **** ROOT      0\\n\",\"mol2\");\n\tviewer_16656285664414332.setStyle({\"stick\": {\"radius\": 0.2, \"color\": \"grey\"}, \"sphere\": {\"scale\": 0.3, \"colorscheme\": {}}});\n\tviewer_16656285664414332.zoomTo();\nviewer_16656285664414332.render();\n});\n</script>",
      "text/html": [
       "<div id=\"3dmolviewer_16656285664414332\"  style=\"position: relative; width: 640px; height: 480px\">\n",
       "        <p id=\"3dmolwarning_16656285664414332\" style=\"background-color:#ffcccc;color:black\">You appear to be running in JupyterLab (or JavaScript failed to load for some other reason).  You need to install the 3dmol extension: <br>\n",
       "        <tt>jupyter labextension install jupyterlab_3dmol</tt></p>\n",
       "        </div>\n",
       "<script>\n",
       "\n",
       "var loadScriptAsync = function(uri){\n",
       "  return new Promise((resolve, reject) => {\n",
       "    var tag = document.createElement('script');\n",
       "    tag.src = uri;\n",
       "    tag.async = true;\n",
       "    tag.onload = () => {\n",
       "      resolve();\n",
       "    };\n",
       "  var firstScriptTag = document.getElementsByTagName('script')[0];\n",
       "  firstScriptTag.parentNode.insertBefore(tag, firstScriptTag);\n",
       "});\n",
       "};\n",
       "\n",
       "if(typeof $3Dmolpromise === 'undefined') {\n",
       "$3Dmolpromise = null;\n",
       "  $3Dmolpromise = loadScriptAsync('https://cdn.jsdelivr.net/npm/3dmol@latest/build/3Dmol-min.min.js');\n",
       "}\n",
       "\n",
       "var viewer_16656285664414332 = null;\n",
       "var warn = document.getElementById(\"3dmolwarning_16656285664414332\");\n",
       "if(warn) {\n",
       "    warn.parentNode.removeChild(warn);\n",
       "}\n",
       "$3Dmolpromise.then(function() {\n",
       "viewer_16656285664414332 = $3Dmol.createViewer($(\"#3dmolviewer_16656285664414332\"),{backgroundColor:\"white\"});\n",
       "viewer_16656285664414332.zoomTo();\n",
       "\tviewer_16656285664414332.addModel(\"@<TRIPOS>MOLECULE\\nRES\\n14 13 1 0 1\\nSMALL\\nNO_CHARGES\\n@<TRIPOS>CRYSIN\\n   10.3843     7.4618     7.7884    90.0000    90.0000    90.0000  1  1\\n@<TRIPOS>ATOM\\n       1 C            1.9360     0.0648     0.2465 C             1 RES     \\n       2 C            0.5372     0.1851    -0.3509 C             1 RES     \\n       3 C           -0.5372    -0.1851     0.6774 C             1 RES     \\n       4 C           -1.9360    -0.0648     0.0799 C             1 RES     \\n       5 H            2.1263    -0.9788     0.5765 H             1 RES     \\n       6 H            2.6921     0.3385    -0.5192 H             1 RES     \\n       7 H            2.0453     0.7498     1.1142 H             1 RES     \\n       8 H            0.4627    -0.4905    -1.2310 H             1 RES     \\n       9 H            0.3820     1.2309    -0.6955 H             1 RES     \\n      10 H           -0.4627     0.4905     1.5574 H             1 RES     \\n      11 H           -0.3820    -1.2309     1.0219 H             1 RES     \\n      12 H           -2.1263     0.9788    -0.2500 H             1 RES     \\n      13 H           -2.0453    -0.7498    -0.7878 H             1 RES     \\n      14 H           -2.6921    -0.3385     0.8457 H             1 RES     \\n@<TRIPOS>BOND\\n       1        2        1 1\\n       2        5        1 1\\n       3        6        1 1\\n       4        7        1 1\\n       5        3        2 1\\n       6        8        2 1\\n       7        9        2 1\\n       8        4        3 1\\n       9       10        3 1\\n      10       11        3 1\\n      11       12        4 1\\n      12       13        4 1\\n      13       14        4 1\\n@<TRIPOS>SUBSTRUCTURE\\n       1 RES             1 RESIDUE    0 **** ROOT      0\\n\",\"mol2\");\n",
       "\tviewer_16656285664414332.setStyle({\"stick\": {\"radius\": 0.2, \"color\": \"grey\"}, \"sphere\": {\"scale\": 0.3, \"colorscheme\": {}}});\n",
       "\tviewer_16656285664414332.zoomTo();\n",
       "viewer_16656285664414332.render();\n",
       "});\n",
       "</script>"
      ]
     },
     "metadata": {},
     "output_type": "display_data"
    },
    {
     "data": {
      "text/plain": [
       "<py3Dmol.view at 0x13e05ce50>"
      ]
     },
     "execution_count": 2,
     "metadata": {},
     "output_type": "execute_result"
    }
   ],
   "source": [
    "butane = mb.load(\"CCCC\", smiles=True)\n",
    "butane.visualize()"
   ]
  },
  {
   "cell_type": "code",
   "execution_count": 3,
   "id": "2b5eec05",
   "metadata": {},
   "outputs": [],
   "source": [
    "box = mb.fill_box(compound = butane,\n",
    "                 n_compounds=1, \n",
    "                 density=0.01)"
   ]
  },
  {
   "cell_type": "code",
   "execution_count": 4,
   "id": "23874592",
   "metadata": {},
   "outputs": [
    {
     "data": {
      "application/3dmoljs_load.v0": "<div id=\"3dmolviewer_1665628566551935\"  style=\"position: relative; width: 640px; height: 480px\">\n        <p id=\"3dmolwarning_1665628566551935\" style=\"background-color:#ffcccc;color:black\">You appear to be running in JupyterLab (or JavaScript failed to load for some other reason).  You need to install the 3dmol extension: <br>\n        <tt>jupyter labextension install jupyterlab_3dmol</tt></p>\n        </div>\n<script>\n\nvar loadScriptAsync = function(uri){\n  return new Promise((resolve, reject) => {\n    var tag = document.createElement('script');\n    tag.src = uri;\n    tag.async = true;\n    tag.onload = () => {\n      resolve();\n    };\n  var firstScriptTag = document.getElementsByTagName('script')[0];\n  firstScriptTag.parentNode.insertBefore(tag, firstScriptTag);\n});\n};\n\nif(typeof $3Dmolpromise === 'undefined') {\n$3Dmolpromise = null;\n  $3Dmolpromise = loadScriptAsync('https://cdn.jsdelivr.net/npm/3dmol@latest/build/3Dmol-min.min.js');\n}\n\nvar viewer_1665628566551935 = null;\nvar warn = document.getElementById(\"3dmolwarning_1665628566551935\");\nif(warn) {\n    warn.parentNode.removeChild(warn);\n}\n$3Dmolpromise.then(function() {\nviewer_1665628566551935 = $3Dmol.createViewer($(\"#3dmolviewer_1665628566551935\"),{backgroundColor:\"white\"});\nviewer_1665628566551935.zoomTo();\n\tviewer_1665628566551935.addModel(\"@<TRIPOS>MOLECULE\\nRES\\n14 13 1 0 1\\nSMALL\\nNO_CHARGES\\n@<TRIPOS>CRYSIN\\n   57.7934    57.7934    57.7934    90.0000    90.0000    90.0000  1  1\\n@<TRIPOS>ATOM\\n       1 C            3.2090    26.5309    39.2802 C             1 RES     \\n       2 C            3.1805    25.0451    39.6263 C             1 RES     \\n       3 C            2.9489    24.1902    38.3755 C             1 RES     \\n       4 C            2.9204    22.7044    38.7216 C             1 RES     \\n       5 H            2.2416    26.8410    38.8307 H             1 RES     \\n       6 H            3.3779    27.1244    40.2034 H             1 RES     \\n       7 H            4.0316    26.7448    38.5649 H             1 RES     \\n       8 H            2.3663    24.8626    40.3613 H             1 RES     \\n       9 H            4.1488    24.7668    40.0967 H             1 RES     \\n      10 H            3.7630    24.3727    37.6405 H             1 RES     \\n      11 H            1.9805    24.4685    37.9051 H             1 RES     \\n      12 H            3.8877    22.3943    39.1712 H             1 RES     \\n      13 H            2.0977    22.4905    39.4369 H             1 RES     \\n      14 H            2.7514    22.1109    37.7985 H             1 RES     \\n@<TRIPOS>BOND\\n       1        2        1 1\\n       2        5        1 1\\n       3        6        1 1\\n       4        7        1 1\\n       5        3        2 1\\n       6        8        2 1\\n       7        9        2 1\\n       8        4        3 1\\n       9       10        3 1\\n      10       11        3 1\\n      11       12        4 1\\n      12       13        4 1\\n      13       14        4 1\\n@<TRIPOS>SUBSTRUCTURE\\n       1 RES             1 RESIDUE    0 **** ROOT      0\\n\",\"mol2\");\n\tviewer_1665628566551935.setStyle({\"stick\": {\"radius\": 0.2, \"color\": \"grey\"}, \"sphere\": {\"scale\": 0.3, \"colorscheme\": {}}});\n\tviewer_1665628566551935.zoomTo();\nviewer_1665628566551935.render();\n});\n</script>",
      "text/html": [
       "<div id=\"3dmolviewer_1665628566551935\"  style=\"position: relative; width: 640px; height: 480px\">\n",
       "        <p id=\"3dmolwarning_1665628566551935\" style=\"background-color:#ffcccc;color:black\">You appear to be running in JupyterLab (or JavaScript failed to load for some other reason).  You need to install the 3dmol extension: <br>\n",
       "        <tt>jupyter labextension install jupyterlab_3dmol</tt></p>\n",
       "        </div>\n",
       "<script>\n",
       "\n",
       "var loadScriptAsync = function(uri){\n",
       "  return new Promise((resolve, reject) => {\n",
       "    var tag = document.createElement('script');\n",
       "    tag.src = uri;\n",
       "    tag.async = true;\n",
       "    tag.onload = () => {\n",
       "      resolve();\n",
       "    };\n",
       "  var firstScriptTag = document.getElementsByTagName('script')[0];\n",
       "  firstScriptTag.parentNode.insertBefore(tag, firstScriptTag);\n",
       "});\n",
       "};\n",
       "\n",
       "if(typeof $3Dmolpromise === 'undefined') {\n",
       "$3Dmolpromise = null;\n",
       "  $3Dmolpromise = loadScriptAsync('https://cdn.jsdelivr.net/npm/3dmol@latest/build/3Dmol-min.min.js');\n",
       "}\n",
       "\n",
       "var viewer_1665628566551935 = null;\n",
       "var warn = document.getElementById(\"3dmolwarning_1665628566551935\");\n",
       "if(warn) {\n",
       "    warn.parentNode.removeChild(warn);\n",
       "}\n",
       "$3Dmolpromise.then(function() {\n",
       "viewer_1665628566551935 = $3Dmol.createViewer($(\"#3dmolviewer_1665628566551935\"),{backgroundColor:\"white\"});\n",
       "viewer_1665628566551935.zoomTo();\n",
       "\tviewer_1665628566551935.addModel(\"@<TRIPOS>MOLECULE\\nRES\\n14 13 1 0 1\\nSMALL\\nNO_CHARGES\\n@<TRIPOS>CRYSIN\\n   57.7934    57.7934    57.7934    90.0000    90.0000    90.0000  1  1\\n@<TRIPOS>ATOM\\n       1 C            3.2090    26.5309    39.2802 C             1 RES     \\n       2 C            3.1805    25.0451    39.6263 C             1 RES     \\n       3 C            2.9489    24.1902    38.3755 C             1 RES     \\n       4 C            2.9204    22.7044    38.7216 C             1 RES     \\n       5 H            2.2416    26.8410    38.8307 H             1 RES     \\n       6 H            3.3779    27.1244    40.2034 H             1 RES     \\n       7 H            4.0316    26.7448    38.5649 H             1 RES     \\n       8 H            2.3663    24.8626    40.3613 H             1 RES     \\n       9 H            4.1488    24.7668    40.0967 H             1 RES     \\n      10 H            3.7630    24.3727    37.6405 H             1 RES     \\n      11 H            1.9805    24.4685    37.9051 H             1 RES     \\n      12 H            3.8877    22.3943    39.1712 H             1 RES     \\n      13 H            2.0977    22.4905    39.4369 H             1 RES     \\n      14 H            2.7514    22.1109    37.7985 H             1 RES     \\n@<TRIPOS>BOND\\n       1        2        1 1\\n       2        5        1 1\\n       3        6        1 1\\n       4        7        1 1\\n       5        3        2 1\\n       6        8        2 1\\n       7        9        2 1\\n       8        4        3 1\\n       9       10        3 1\\n      10       11        3 1\\n      11       12        4 1\\n      12       13        4 1\\n      13       14        4 1\\n@<TRIPOS>SUBSTRUCTURE\\n       1 RES             1 RESIDUE    0 **** ROOT      0\\n\",\"mol2\");\n",
       "\tviewer_1665628566551935.setStyle({\"stick\": {\"radius\": 0.2, \"color\": \"grey\"}, \"sphere\": {\"scale\": 0.3, \"colorscheme\": {}}});\n",
       "\tviewer_1665628566551935.zoomTo();\n",
       "viewer_1665628566551935.render();\n",
       "});\n",
       "</script>"
      ]
     },
     "metadata": {},
     "output_type": "display_data"
    },
    {
     "data": {
      "text/plain": [
       "<py3Dmol.view at 0x13e078460>"
      ]
     },
     "execution_count": 4,
     "metadata": {},
     "output_type": "execute_result"
    }
   ],
   "source": [
    "box.visualize() #is this supposed to show the box around it?"
   ]
  },
  {
   "cell_type": "code",
   "execution_count": 5,
   "id": "97bbe03a",
   "metadata": {},
   "outputs": [],
   "source": [
    "import foyer\n"
   ]
  },
  {
   "cell_type": "code",
   "execution_count": 6,
   "id": "0fdd47fe",
   "metadata": {},
   "outputs": [
    {
     "ename": "FileNotFoundError",
     "evalue": "[Errno 2] No such file or directory: '../repos/GAFF-foyer/gafffoyer/xml/gaff.xml'",
     "output_type": "error",
     "traceback": [
      "\u001b[0;31m---------------------------------------------------------------------------\u001b[0m",
      "\u001b[0;31mFileNotFoundError\u001b[0m                         Traceback (most recent call last)",
      "Cell \u001b[0;32mIn [6], line 1\u001b[0m\n\u001b[0;32m----> 1\u001b[0m gaff \u001b[38;5;241m=\u001b[39m \u001b[43mfoyer\u001b[49m\u001b[38;5;241;43m.\u001b[39;49m\u001b[43mForcefield\u001b[49m\u001b[43m(\u001b[49m\u001b[43mforcefield_files\u001b[49m\u001b[43m \u001b[49m\u001b[38;5;241;43m=\u001b[39;49m\u001b[43m \u001b[49m\u001b[38;5;124;43m\"\u001b[39;49m\u001b[38;5;124;43m../repos/GAFF-foyer/gafffoyer/xml/gaff.xml\u001b[39;49m\u001b[38;5;124;43m\"\u001b[39;49m\u001b[43m)\u001b[49m\n",
      "File \u001b[0;32m~/miniconda3/envs/sim_env/lib/python3.9/site-packages/foyer/forcefield.py:532\u001b[0m, in \u001b[0;36mForcefield.__init__\u001b[0;34m(self, forcefield_files, name, validation, debug)\u001b[0m\n\u001b[1;32m    529\u001b[0m     \u001b[38;5;28;01melse\u001b[39;00m:\n\u001b[1;32m    530\u001b[0m         all_files_to_load\u001b[38;5;241m.\u001b[39mappend(file)\n\u001b[0;32m--> 532\u001b[0m preprocessed_files \u001b[38;5;241m=\u001b[39m \u001b[43mpreprocess_forcefield_files\u001b[49m\u001b[43m(\u001b[49m\u001b[43mall_files_to_load\u001b[49m\u001b[43m)\u001b[49m\n\u001b[1;32m    533\u001b[0m \u001b[38;5;28;01mif\u001b[39;00m validation:\n\u001b[1;32m    534\u001b[0m     \u001b[38;5;28;01mfor\u001b[39;00m ff_file_name \u001b[38;5;129;01min\u001b[39;00m preprocessed_files:\n",
      "File \u001b[0;32m~/miniconda3/envs/sim_env/lib/python3.9/site-packages/foyer/forcefield.py:68\u001b[0m, in \u001b[0;36mpreprocess_forcefield_files\u001b[0;34m(forcefield_files)\u001b[0m\n\u001b[1;32m     66\u001b[0m \u001b[38;5;28;01mfor\u001b[39;00m xml_file \u001b[38;5;129;01min\u001b[39;00m forcefield_files:\n\u001b[1;32m     67\u001b[0m     \u001b[38;5;28;01mif\u001b[39;00m \u001b[38;5;129;01mnot\u001b[39;00m \u001b[38;5;28mhasattr\u001b[39m(xml_file, \u001b[38;5;124m\"\u001b[39m\u001b[38;5;124mread\u001b[39m\u001b[38;5;124m\"\u001b[39m):\n\u001b[0;32m---> 68\u001b[0m         f \u001b[38;5;241m=\u001b[39m \u001b[38;5;28;43mopen\u001b[39;49m\u001b[43m(\u001b[49m\u001b[43mxml_file\u001b[49m\u001b[43m)\u001b[49m\n\u001b[1;32m     69\u001b[0m         _, suffix \u001b[38;5;241m=\u001b[39m os\u001b[38;5;241m.\u001b[39mpath\u001b[38;5;241m.\u001b[39msplit(xml_file)\n\u001b[1;32m     70\u001b[0m     \u001b[38;5;28;01melse\u001b[39;00m:\n",
      "\u001b[0;31mFileNotFoundError\u001b[0m: [Errno 2] No such file or directory: '../repos/GAFF-foyer/gafffoyer/xml/gaff.xml'"
     ]
    }
   ],
   "source": [
    "gaff = foyer.Forcefield(forcefield_files = \"../repos/GAFF-foyer/gafffoyer/xml/gaff.xml\")"
   ]
  },
  {
   "cell_type": "code",
   "execution_count": null,
   "id": "d091c2ac",
   "metadata": {},
   "outputs": [],
   "source": [
    "box_typed = gaff.apply(box)"
   ]
  },
  {
   "cell_type": "code",
   "execution_count": null,
   "id": "859d6c78",
   "metadata": {},
   "outputs": [],
   "source": [
    "box_typed.strip([a.atomic_number == 1 for a in box_typed])"
   ]
  },
  {
   "cell_type": "code",
   "execution_count": null,
   "id": "7fc827cc",
   "metadata": {},
   "outputs": [],
   "source": [
    "type(box_typed) \n",
    "#parmed structure contains all the info like bond distance and stickiness in a file that can be used to run a hoomd simulation"
   ]
  },
  {
   "cell_type": "code",
   "execution_count": null,
   "id": "2fa5d638",
   "metadata": {},
   "outputs": [],
   "source": [
    "type(box)"
   ]
  },
  {
   "cell_type": "code",
   "execution_count": null,
   "id": "79ddf60e",
   "metadata": {},
   "outputs": [],
   "source": [
    "for atom in box_typed.atoms:\n",
    "    print(atom.sigma)\n",
    "    print(atom.epsilon)"
   ]
  },
  {
   "cell_type": "code",
   "execution_count": null,
   "id": "33b477b6",
   "metadata": {},
   "outputs": [],
   "source": [
    "from mbuild.formats.hoomd_forcefield import create_hoomd_forcefield"
   ]
  },
  {
   "cell_type": "code",
   "execution_count": null,
   "id": "fa8a2855",
   "metadata": {},
   "outputs": [],
   "source": [
    "help(create_hoomd_forcefield)"
   ]
  },
  {
   "cell_type": "code",
   "execution_count": null,
   "id": "21877891",
   "metadata": {},
   "outputs": [],
   "source": [
    "snap, forcefield, refs = create_hoomd_forcefield(box_typed, r_cut = 2.5, auto_scale=True)"
   ]
  },
  {
   "cell_type": "code",
   "execution_count": null,
   "id": "ce92929c",
   "metadata": {},
   "outputs": [],
   "source": [
    "print(forcefield)"
   ]
  },
  {
   "cell_type": "code",
   "execution_count": null,
   "id": "76eff6d5",
   "metadata": {},
   "outputs": [],
   "source": [
    "import hoomd\n",
    "cpu = hoomd.device.CPU()\n",
    "sim = hoomd.Simulation(device=cpu,seed=0)\n",
    "sim.create_state_from_snapshot(snap)"
   ]
  },
  {
   "cell_type": "code",
   "execution_count": null,
   "id": "7b3d76a9",
   "metadata": {},
   "outputs": [],
   "source": [
    "integrator = hoomd.md.Integrator(dt=0.0001)\n",
    "nvt = hoomd.md.methods.NVT(kT=1.5,filter=hoomd.filter.All(),tau=0.1)\n",
    "integrator.forces = forcefield\n",
    "integrator.methods.append(nvt)\n",
    "sim.operations.integrator = integrator\n",
    "sim.state.thermalize_particle_momenta(filter=hoomd.filter.All(), kT=1.5)\n",
    "# Set up GSD writer\n",
    "gsd_writer = hoomd.write.GSD(\n",
    "    trigger=hoomd.trigger.Periodic(int(2e2)),\n",
    "    filename=\"traj_dihedral.gsd\",\n",
    "    mode=\"wb\"\n",
    ")\n",
    "sim.operations.writers.append(gsd_writer)"
   ]
  },
  {
   "cell_type": "code",
   "execution_count": null,
   "id": "28b01d20",
   "metadata": {},
   "outputs": [],
   "source": [
    "sim.run(5e5)"
   ]
  },
  {
   "cell_type": "code",
   "execution_count": null,
   "id": "8ad03cd1",
   "metadata": {},
   "outputs": [],
   "source": [
    "import gsd.hoomd"
   ]
  },
  {
   "cell_type": "code",
   "execution_count": null,
   "id": "00d6b19e",
   "metadata": {},
   "outputs": [],
   "source": [
    "traj = gsd.hoomd.open(\"traj_dihedral.gsd\")"
   ]
  },
  {
   "cell_type": "code",
   "execution_count": null,
   "id": "41553506",
   "metadata": {},
   "outputs": [],
   "source": [
    "len(traj)"
   ]
  },
  {
   "cell_type": "code",
   "execution_count": null,
   "id": "fbc04fa5",
   "metadata": {},
   "outputs": [],
   "source": [
    "snapshot = traj[10]"
   ]
  },
  {
   "cell_type": "code",
   "execution_count": null,
   "id": "78c0db2e",
   "metadata": {},
   "outputs": [],
   "source": [
    "snapshot.particles.position"
   ]
  },
  {
   "cell_type": "code",
   "execution_count": null,
   "id": "f846875c",
   "metadata": {},
   "outputs": [],
   "source": [
    "from cmeutils.structure import dihedral_distribution"
   ]
  },
  {
   "cell_type": "code",
   "execution_count": null,
   "id": "e771bb9b",
   "metadata": {},
   "outputs": [],
   "source": [
    "dist = dihedral_distribution('traj_dihedral.gsd',A_name = \"c3\", B_name = \"c3\", C_name = \"c3\", D_name = \"c3\", histogram = True)"
   ]
  },
  {
   "cell_type": "code",
   "execution_count": null,
   "id": "284d6ba7",
   "metadata": {},
   "outputs": [],
   "source": []
  }
 ],
 "metadata": {
  "kernelspec": {
   "display_name": "Python 3 (ipykernel)",
   "language": "python",
   "name": "python3"
  },
  "language_info": {
   "codemirror_mode": {
    "name": "ipython",
    "version": 3
   },
   "file_extension": ".py",
   "mimetype": "text/x-python",
   "name": "python",
   "nbconvert_exporter": "python",
   "pygments_lexer": "ipython3",
   "version": "3.9.13"
  }
 },
 "nbformat": 4,
 "nbformat_minor": 5
}
